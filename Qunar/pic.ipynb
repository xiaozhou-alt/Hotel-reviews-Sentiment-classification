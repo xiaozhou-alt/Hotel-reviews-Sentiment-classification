{
 "cells": [
  {
   "cell_type": "markdown",
   "metadata": {},
   "source": [
    "**验证GPU及PyTorch、TensorFlow版本**"
   ]
  },
  {
   "cell_type": "code",
   "execution_count": 1,
   "metadata": {
    "execution": {
     "iopub.execute_input": "2025-04-05T13:05:45.679343Z",
     "iopub.status.busy": "2025-04-05T13:05:45.679085Z",
     "iopub.status.idle": "2025-04-05T13:05:56.614805Z",
     "shell.execute_reply": "2025-04-05T13:05:56.614188Z",
     "shell.execute_reply.started": "2025-04-05T13:05:45.679326Z"
    },
    "tags": []
   },
   "outputs": [
    {
     "name": "stderr",
     "output_type": "stream",
     "text": [
      "2025-04-05 21:05:46.336881: I tensorflow/core/util/port.cc:113] oneDNN custom operations are on. You may see slightly different numerical results due to floating-point round-off errors from different computation orders. To turn them off, set the environment variable `TF_ENABLE_ONEDNN_OPTS=0`.\n",
      "2025-04-05 21:05:47.005013: I tensorflow/core/platform/cpu_feature_guard.cc:210] This TensorFlow binary is optimized to use available CPU instructions in performance-critical operations.\n",
      "To enable the following instructions: AVX2 AVX512F AVX512_VNNI FMA, in other operations, rebuild TensorFlow with the appropriate compiler flags.\n",
      "2025-04-05 21:05:48.216097: W tensorflow/compiler/tf2tensorrt/utils/py_utils.cc:38] TF-TRT Warning: Could not find TensorRT\n"
     ]
    },
    {
     "name": "stdout",
     "output_type": "stream",
     "text": [
      "\n",
      "=== TensorFlow 信息 ===\n",
      "版本: 2.16.1\n",
      "GPU 可用性: 是\n",
      "\n",
      "=== PyTorch 信息 ===\n",
      "版本: 2.3.1+cu121\n"
     ]
    },
    {
     "name": "stderr",
     "output_type": "stream",
     "text": [
      "2025-04-05 21:05:53.018498: I external/local_xla/xla/stream_executor/cuda/cuda_executor.cc:998] successful NUMA node read from SysFS had negative value (-1), but there must be at least one NUMA node, so returning NUMA node zero. See more at https://github.com/torvalds/linux/blob/v6.0/Documentation/ABI/testing/sysfs-bus-pci#L344-L355\n"
     ]
    },
    {
     "name": "stdout",
     "output_type": "stream",
     "text": [
      "CUDA 可用性: True\n",
      "当前 GPU 设备: NVIDIA A10\n"
     ]
    },
    {
     "name": "stderr",
     "output_type": "stream",
     "text": [
      "2025-04-05 21:05:53.028741: I external/local_xla/xla/stream_executor/cuda/cuda_executor.cc:998] successful NUMA node read from SysFS had negative value (-1), but there must be at least one NUMA node, so returning NUMA node zero. See more at https://github.com/torvalds/linux/blob/v6.0/Documentation/ABI/testing/sysfs-bus-pci#L344-L355\n",
      "2025-04-05 21:05:53.028970: I external/local_xla/xla/stream_executor/cuda/cuda_executor.cc:998] successful NUMA node read from SysFS had negative value (-1), but there must be at least one NUMA node, so returning NUMA node zero. See more at https://github.com/torvalds/linux/blob/v6.0/Documentation/ABI/testing/sysfs-bus-pci#L344-L355\n"
     ]
    }
   ],
   "source": [
    "import tensorflow as tf\n",
    "import torch\n",
    "\n",
    "# 检查 TensorFlow\n",
    "print(\"\\n=== TensorFlow 信息 ===\")\n",
    "print(f\"版本: {tf.__version__}\")\n",
    "print(f\"GPU 可用性: {'是' if tf.config.list_physical_devices('GPU') else '否'}\")\n",
    "\n",
    "# 检查 PyTorch\n",
    "print(\"\\n=== PyTorch 信息 ===\")\n",
    "print(f\"版本: {torch.__version__}\")\n",
    "print(f\"CUDA 可用性: {torch.cuda.is_available()}\")\n",
    "if torch.cuda.is_available():\n",
    "    print(f\"当前 GPU 设备: {torch.cuda.get_device_name(0)}\")"
   ]
  },
  {
   "cell_type": "markdown",
   "metadata": {},
   "source": [
    "**导入库**"
   ]
  },
  {
   "cell_type": "code",
   "execution_count": 1,
   "metadata": {
    "execution": {
     "iopub.execute_input": "2025-04-05T13:06:02.846848Z",
     "iopub.status.busy": "2025-04-05T13:06:02.846566Z",
     "iopub.status.idle": "2025-04-05T13:06:04.225809Z",
     "shell.execute_reply": "2025-04-05T13:06:04.225328Z",
     "shell.execute_reply.started": "2025-04-05T13:06:02.846832Z"
    },
    "tags": []
   },
   "outputs": [],
   "source": [
    "import pandas as pd\n",
    "import os\n",
    "from PIL import Image\n",
    "from torch.utils.data import Dataset, DataLoader\n",
    "import torch\n",
    "import torch.nn as nn\n",
    "import torch.optim as optim\n",
    "from torchvision import transforms, models\n",
    "import numpy as np"
   ]
  },
  {
   "cell_type": "markdown",
   "metadata": {},
   "source": [
    "**验证图片名称对应，清除无效项**"
   ]
  },
  {
   "cell_type": "code",
   "execution_count": 4,
   "metadata": {
    "execution": {
     "iopub.execute_input": "2025-04-05T13:06:08.555165Z",
     "iopub.status.busy": "2025-04-05T13:06:08.554397Z",
     "iopub.status.idle": "2025-04-05T13:09:18.660867Z",
     "shell.execute_reply": "2025-04-05T13:09:18.660396Z",
     "shell.execute_reply.started": "2025-04-05T13:06:08.555124Z"
    },
    "tags": []
   },
   "outputs": [
    {
     "name": "stdout",
     "output_type": "stream",
     "text": [
      "清洗后有效数据量: 16521\n"
     ]
    }
   ],
   "source": [
    "def clean_dataset(csv_path, img_dir):\n",
    "    df = pd.read_csv(csv_path)\n",
    "    \n",
    "    # 过滤无效图片路径\n",
    "    valid_paths = []\n",
    "    for idx, row in df.iterrows():\n",
    "        img_path = os.path.join(img_dir, row['path'])\n",
    "        if os.path.exists(img_path):\n",
    "            try:\n",
    "                Image.open(img_path).verify()  # 验证图片完整性\n",
    "                valid_paths.append(True)\n",
    "            except:\n",
    "                valid_paths.append(False)\n",
    "        else:\n",
    "            valid_paths.append(False)\n",
    "    \n",
    "    df = df[valid_paths]\n",
    "    print(f\"清洗后有效数据量: {len(df)}\")\n",
    "    return df\n",
    "\n",
    "# 参数配置\n",
    "csv_path = \"./data/picture.csv\"\n",
    "img_dir = \"../pic\"\n",
    "df_clean = clean_dataset(csv_path, img_dir)"
   ]
  },
  {
   "cell_type": "markdown",
   "metadata": {},
   "source": [
    "**检验数据集可用性**"
   ]
  },
  {
   "cell_type": "code",
   "execution_count": 5,
   "metadata": {
    "execution": {
     "iopub.execute_input": "2025-04-05T13:09:59.747945Z",
     "iopub.status.busy": "2025-04-05T13:09:59.747516Z",
     "iopub.status.idle": "2025-04-05T13:09:59.779061Z",
     "shell.execute_reply": "2025-04-05T13:09:59.778466Z",
     "shell.execute_reply.started": "2025-04-05T13:09:59.747911Z"
    },
    "tags": []
   },
   "outputs": [
    {
     "name": "stdout",
     "output_type": "stream",
     "text": [
      "path    object\n",
      "区位       int64\n",
      "餐饮       int64\n",
      "房间设施     int64\n",
      "娱乐设施     int64\n",
      "店内设施     int64\n",
      "服务       int64\n",
      "风格化      int64\n",
      "其他       int64\n",
      "主观感受     int64\n",
      "dtype: object\n",
      "有效样本数: 16521\n",
      "划分前的数据形状: (16521, 10)\n",
      "是否存在NaN: 0\n"
     ]
    }
   ],
   "source": [
    "import pandas as pd\n",
    "\n",
    "# 定义列数据类型\n",
    "dtype_dict = {\n",
    "    '区位': int,\n",
    "    '餐饮': int,\n",
    "    '房间设施': int,\n",
    "    '娱乐设施': int,\n",
    "    '店内设施': int,\n",
    "    '服务': int,\n",
    "    '风格化': int,\n",
    "    '其他': int,\n",
    "    '主观感受': int\n",
    "}\n",
    "\n",
    "# 读取CSV并指定类型\n",
    "df = pd.read_csv(\"./data/picture.csv\", index_col=0, dtype=dtype_dict)\n",
    "\n",
    "# 检查数据类型是否正确\n",
    "print(df.dtypes)\n",
    "\n",
    "theme_cols = ['区位','餐饮','房间设施','娱乐设施','店内设施','服务','风格化','其他']\n",
    "\n",
    "# 检查是否有无法转换的异常值\n",
    "for col in theme_cols + ['主观感受']:\n",
    "    invalid = pd.to_numeric(df[col], errors='coerce').isna()\n",
    "    if invalid.any():\n",
    "        print(f\"列 '{col}' 中存在无效值，行索引: {df[invalid].index.tolist()}\")\n",
    "        # 修复或删除这些行\n",
    "        df = df[~invalid]\n",
    "        \n",
    "# 精准清洗（仅处理数值列）\n",
    "theme_cols = ['区位','餐饮','房间设施','娱乐设施','店内设施','服务','风格化','其他']\n",
    "sentiment_col = '主观感受'\n",
    "\n",
    "# 1. 仅转换需要的列\n",
    "df_clean = df.copy()\n",
    "df_clean[theme_cols] = df[theme_cols].apply(pd.to_numeric, errors='coerce')\n",
    "df_clean[sentiment_col] = pd.to_numeric(df[sentiment_col], errors='coerce')\n",
    "\n",
    "# 2. 仅删除关键列中的无效行\n",
    "df_clean = df_clean.dropna(subset=theme_cols + [sentiment_col])\n",
    "\n",
    "# 3. 保留非数值列（如path）\n",
    "print(\"有效样本数:\", len(df_clean))  # 应显示16521\n",
    "\n",
    "# 在调用 train_test_split 前添加验证\n",
    "print(\"划分前的数据形状:\", df_clean.shape)  # 应为 (16521, 10)\n",
    "print(\"是否存在NaN:\", df_clean.isnull().sum().sum())  # 应为 0"
   ]
  },
  {
   "cell_type": "markdown",
   "metadata": {},
   "source": [
    "**数据集划分**"
   ]
  },
  {
   "cell_type": "code",
   "execution_count": 6,
   "metadata": {
    "execution": {
     "iopub.execute_input": "2025-04-05T13:10:04.257431Z",
     "iopub.status.busy": "2025-04-05T13:10:04.257145Z",
     "iopub.status.idle": "2025-04-05T13:10:04.326834Z",
     "shell.execute_reply": "2025-04-05T13:10:04.326298Z",
     "shell.execute_reply.started": "2025-04-05T13:10:04.257415Z"
    },
    "tags": []
   },
   "outputs": [
    {
     "name": "stdout",
     "output_type": "stream",
     "text": [
      "训练集样本数: 13216\n",
      "验证集样本数: 3305\n"
     ]
    }
   ],
   "source": [
    "class HotelDataset(Dataset):\n",
    "    def __init__(self, df, img_dir, transform=None):\n",
    "        self.df = df\n",
    "        self.img_dir = img_dir\n",
    "        self.transform = transform or transforms.Compose([\n",
    "            transforms.Resize((224, 224)),\n",
    "            transforms.ToTensor(),\n",
    "            transforms.Normalize([0.485, 0.456, 0.406], [0.229, 0.224, 0.225])\n",
    "        ])\n",
    "        \n",
    "    def __len__(self):\n",
    "        return len(self.df)\n",
    "    \n",
    "    def __getitem__(self, idx):\n",
    "        row = self.df.iloc[idx]\n",
    "        img_path = os.path.join(self.img_dir, row['path'])\n",
    "        \n",
    "        # 加载图像（带错误处理）\n",
    "        try:\n",
    "            image = Image.open(img_path).convert('RGB')\n",
    "        except:\n",
    "            image = Image.new('RGB', (224, 224), (0, 0, 0))  # 创建黑色占位图\n",
    "        \n",
    "        image = self.transform(image)\n",
    "        \n",
    "        # 显式转换为浮点张量\n",
    "        theme_labels = torch.tensor(\n",
    "            row[theme_cols].values.astype(np.float32), \n",
    "            dtype=torch.float32\n",
    "        )\n",
    "        \n",
    "        # 情感标签处理\n",
    "        sentiment_label = torch.tensor(\n",
    "            int(row['主观感受']) + 1,  # 强制转换为整数\n",
    "            dtype=torch.long\n",
    "        )\n",
    "        \n",
    "        return image, {\n",
    "            'themes': theme_labels,\n",
    "            'sentiment': sentiment_label\n",
    "        }\n",
    "\n",
    "# 划分数据集\n",
    "from sklearn.model_selection import train_test_split\n",
    "\n",
    "# 确保使用清洗后的数据\n",
    "train_df, val_df = train_test_split(\n",
    "    df_clean, \n",
    "    test_size=0.2,\n",
    "    random_state=42  # 添加随机种子保证可复现性\n",
    ")\n",
    "print(\"训练集样本数:\", len(train_df))  # 应约 13216\n",
    "print(\"验证集样本数:\", len(val_df))    # 应约 3305\n",
    "train_dataset = HotelDataset(train_df, img_dir)\n",
    "val_dataset = HotelDataset(val_df, img_dir)"
   ]
  },
  {
   "cell_type": "markdown",
   "metadata": {},
   "source": [
    "**注意力机制+ResNet-101**"
   ]
  },
  {
   "cell_type": "code",
   "execution_count": 3,
   "metadata": {
    "execution": {
     "iopub.execute_input": "2025-04-05T13:10:08.078185Z",
     "iopub.status.busy": "2025-04-05T13:10:08.077700Z",
     "iopub.status.idle": "2025-04-05T13:10:08.086336Z",
     "shell.execute_reply": "2025-04-05T13:10:08.085856Z",
     "shell.execute_reply.started": "2025-04-05T13:10:08.078160Z"
    },
    "tags": []
   },
   "outputs": [],
   "source": [
    "from torchvision.models.resnet import ResNet101_Weights\n",
    "import torch\n",
    "from torch import nn\n",
    "import torchvision.models as models\n",
    "\n",
    "class ChannelAttention(nn.Module):\n",
    "    def __init__(self, in_channels, reduction_ratio=16):\n",
    "        super().__init__()\n",
    "        self.avg_pool = nn.AdaptiveAvgPool2d(1)\n",
    "        self.max_pool = nn.AdaptiveMaxPool2d(1)\n",
    "        self.fc = nn.Sequential(\n",
    "            nn.Linear(in_channels, in_channels // reduction_ratio),\n",
    "            nn.ReLU(inplace=True),\n",
    "            nn.Linear(in_channels // reduction_ratio, in_channels),\n",
    "            nn.Sigmoid()\n",
    "        )\n",
    "    \n",
    "    def forward(self, x):\n",
    "        avg_out = self.fc(self.avg_pool(x).flatten(1))  \n",
    "        max_out = self.fc(self.max_pool(x).flatten(1))\n",
    "        return x * (avg_out + max_out).unsqueeze(-1).unsqueeze(-1)\n",
    "\n",
    "\n",
    "class ResNet101Att(nn.Module):\n",
    "    def __init__(self):\n",
    "        super().__init__()\n",
    "        base_model = models.resnet101(weights=ResNet101_Weights.IMAGENET1K_V1)\n",
    "        \n",
    "        # 完整的特征提取部分\n",
    "        self.features = nn.Sequential(\n",
    "            base_model.conv1,           # [batch, 64, 112, 112]\n",
    "            base_model.bn1,\n",
    "            base_model.relu,\n",
    "            base_model.maxpool,         # [batch, 64, 56, 56]\n",
    "            base_model.layer1,          # [batch, 256, 56, 56]\n",
    "            ChannelAttention(256),      # 插入通道注意力\n",
    "            base_model.layer2,          # [batch, 512, 28, 28]\n",
    "            ChannelAttention(512),      # 插入通道注意力\n",
    "            base_model.layer3,          # [batch, 1024, 14, 14]\n",
    "            base_model.layer4,          # [batch, 2048, 7, 7]\n",
    "            ChannelAttention(2048)      # 插入通道注意力\n",
    "        )\n",
    "        \n",
    "        # 多任务输出头\n",
    "        self.avgpool = base_model.avgpool  # [batch, 2048, 1, 1]\n",
    "        \n",
    "        # 主题分类头（8个二分类）\n",
    "        self.theme_head = nn.Sequential(\n",
    "            nn.Linear(2048, 512),\n",
    "            nn.ReLU(),\n",
    "            nn.Dropout(0.5),\n",
    "            nn.Linear(512, 8),\n",
    "            nn.Sigmoid()\n",
    "        )\n",
    "        \n",
    "        # 情感分类头（三分类）\n",
    "        self.sentiment_head = nn.Sequential(\n",
    "            nn.Linear(2048, 512),\n",
    "            nn.ReLU(),\n",
    "            nn.Dropout(0.5),\n",
    "            nn.Linear(512, 3)\n",
    "        )\n",
    "\n",
    "        # 冻结参数策略\n",
    "        for param in base_model.parameters():\n",
    "            param.requires_grad = False\n",
    "        for param in base_model.layer3.parameters():\n",
    "            param.requires_grad = True\n",
    "        for param in base_model.layer4.parameters():\n",
    "            param.requires_grad = True\n",
    "\n",
    "    def forward(self, x):\n",
    "        x = self.features(x)\n",
    "        x = self.avgpool(x)\n",
    "        x = torch.flatten(x, 1)\n",
    "        \n",
    "        return {\n",
    "            'themes': self.theme_head(x),\n",
    "            'sentiment': self.sentiment_head(x)\n",
    "        }"
   ]
  },
  {
   "cell_type": "markdown",
   "metadata": {},
   "source": [
    "**训练过程**"
   ]
  },
  {
   "cell_type": "code",
   "execution_count": 10,
   "metadata": {
    "ExecutionIndicator": {
     "show": true
    },
    "execution": {
     "iopub.execute_input": "2025-04-05T13:13:41.349349Z",
     "iopub.status.busy": "2025-04-05T13:13:41.349047Z",
     "iopub.status.idle": "2025-04-05T13:48:21.211586Z",
     "shell.execute_reply": "2025-04-05T13:48:21.210944Z",
     "shell.execute_reply.started": "2025-04-05T13:13:41.349333Z"
    },
    "tags": []
   },
   "outputs": [
    {
     "data": {
      "application/vnd.jupyter.widget-view+json": {
       "model_id": "b2280c6c1dcd4d2ea435d3cdb13c54fe",
       "version_major": 2,
       "version_minor": 0
      },
      "text/plain": [
       "Epoch 1/10 [Train]:   0%|          | 0/413 [00:00<?, ?it/s]"
      ]
     },
     "metadata": {},
     "output_type": "display_data"
    },
    {
     "data": {
      "application/vnd.jupyter.widget-view+json": {
       "model_id": "",
       "version_major": 2,
       "version_minor": 0
      },
      "text/plain": [
       "Epoch 1/10 [Val]:   0%|          | 0/104 [00:00<?, ?it/s]"
      ]
     },
     "metadata": {},
     "output_type": "display_data"
    },
    {
     "name": "stdout",
     "output_type": "stream",
     "text": [
      "Epoch 1, Theme Acc: 89.22%, Sentiment Acc: 46.99%\n",
      "Saved epoch model: saved_models/epoch_1_theme_89.22_sentiment_46.99.pth\n",
      "New best sentiment model saved: saved_models/best_sentiment_acc_46.99.pth\n"
     ]
    },
    {
     "data": {
      "application/vnd.jupyter.widget-view+json": {
       "model_id": "e941a586ed3f462ba76188a20b69a967",
       "version_major": 2,
       "version_minor": 0
      },
      "text/plain": [
       "Epoch 2/10 [Train]:   0%|          | 0/413 [00:00<?, ?it/s]"
      ]
     },
     "metadata": {},
     "output_type": "display_data"
    },
    {
     "data": {
      "application/vnd.jupyter.widget-view+json": {
       "model_id": "",
       "version_major": 2,
       "version_minor": 0
      },
      "text/plain": [
       "Epoch 2/10 [Val]:   0%|          | 0/104 [00:00<?, ?it/s]"
      ]
     },
     "metadata": {},
     "output_type": "display_data"
    },
    {
     "name": "stdout",
     "output_type": "stream",
     "text": [
      "Epoch 2, Theme Acc: 90.95%, Sentiment Acc: 48.56%\n",
      "Saved epoch model: saved_models/epoch_2_theme_90.95_sentiment_48.56.pth\n",
      "New best sentiment model saved: saved_models/best_sentiment_acc_48.56.pth\n"
     ]
    },
    {
     "data": {
      "application/vnd.jupyter.widget-view+json": {
       "model_id": "b3c055f1bc2d441386ac7327427f1d25",
       "version_major": 2,
       "version_minor": 0
      },
      "text/plain": [
       "Epoch 3/10 [Train]:   0%|          | 0/413 [00:00<?, ?it/s]"
      ]
     },
     "metadata": {},
     "output_type": "display_data"
    },
    {
     "data": {
      "application/vnd.jupyter.widget-view+json": {
       "model_id": "",
       "version_major": 2,
       "version_minor": 0
      },
      "text/plain": [
       "Epoch 3/10 [Val]:   0%|          | 0/104 [00:00<?, ?it/s]"
      ]
     },
     "metadata": {},
     "output_type": "display_data"
    },
    {
     "name": "stdout",
     "output_type": "stream",
     "text": [
      "Epoch 3, Theme Acc: 90.98%, Sentiment Acc: 47.05%\n",
      "Saved epoch model: saved_models/epoch_3_theme_90.98_sentiment_47.05.pth\n"
     ]
    },
    {
     "data": {
      "application/vnd.jupyter.widget-view+json": {
       "model_id": "2950071a4eb245bc92cbb622f3bcaccb",
       "version_major": 2,
       "version_minor": 0
      },
      "text/plain": [
       "Epoch 4/10 [Train]:   0%|          | 0/413 [00:00<?, ?it/s]"
      ]
     },
     "metadata": {},
     "output_type": "display_data"
    },
    {
     "data": {
      "application/vnd.jupyter.widget-view+json": {
       "model_id": "",
       "version_major": 2,
       "version_minor": 0
      },
      "text/plain": [
       "Epoch 4/10 [Val]:   0%|          | 0/104 [00:00<?, ?it/s]"
      ]
     },
     "metadata": {},
     "output_type": "display_data"
    },
    {
     "name": "stdout",
     "output_type": "stream",
     "text": [
      "Epoch 4, Theme Acc: 90.99%, Sentiment Acc: 47.11%\n",
      "Saved epoch model: saved_models/epoch_4_theme_90.99_sentiment_47.11.pth\n"
     ]
    },
    {
     "data": {
      "application/vnd.jupyter.widget-view+json": {
       "model_id": "c508606abfd24a0dae2ec1a82a0df73f",
       "version_major": 2,
       "version_minor": 0
      },
      "text/plain": [
       "Epoch 5/10 [Train]:   0%|          | 0/413 [00:00<?, ?it/s]"
      ]
     },
     "metadata": {},
     "output_type": "display_data"
    },
    {
     "data": {
      "application/vnd.jupyter.widget-view+json": {
       "model_id": "",
       "version_major": 2,
       "version_minor": 0
      },
      "text/plain": [
       "Epoch 5/10 [Val]:   0%|          | 0/104 [00:00<?, ?it/s]"
      ]
     },
     "metadata": {},
     "output_type": "display_data"
    },
    {
     "name": "stdout",
     "output_type": "stream",
     "text": [
      "Epoch 5, Theme Acc: 90.99%, Sentiment Acc: 48.87%\n",
      "Saved epoch model: saved_models/epoch_5_theme_90.99_sentiment_48.87.pth\n",
      "New best sentiment model saved: saved_models/best_sentiment_acc_48.87.pth\n"
     ]
    },
    {
     "data": {
      "application/vnd.jupyter.widget-view+json": {
       "model_id": "7a42486e021f44d894150bd9753485a6",
       "version_major": 2,
       "version_minor": 0
      },
      "text/plain": [
       "Epoch 6/10 [Train]:   0%|          | 0/413 [00:00<?, ?it/s]"
      ]
     },
     "metadata": {},
     "output_type": "display_data"
    },
    {
     "data": {
      "application/vnd.jupyter.widget-view+json": {
       "model_id": "",
       "version_major": 2,
       "version_minor": 0
      },
      "text/plain": [
       "Epoch 6/10 [Val]:   0%|          | 0/104 [00:00<?, ?it/s]"
      ]
     },
     "metadata": {},
     "output_type": "display_data"
    },
    {
     "name": "stdout",
     "output_type": "stream",
     "text": [
      "Epoch 6, Theme Acc: 90.99%, Sentiment Acc: 47.84%\n",
      "Saved epoch model: saved_models/epoch_6_theme_90.99_sentiment_47.84.pth\n"
     ]
    },
    {
     "data": {
      "application/vnd.jupyter.widget-view+json": {
       "model_id": "4a2cd4626ed04634b47ac822f617b9a9",
       "version_major": 2,
       "version_minor": 0
      },
      "text/plain": [
       "Epoch 7/10 [Train]:   0%|          | 0/413 [00:00<?, ?it/s]"
      ]
     },
     "metadata": {},
     "output_type": "display_data"
    },
    {
     "data": {
      "application/vnd.jupyter.widget-view+json": {
       "model_id": "",
       "version_major": 2,
       "version_minor": 0
      },
      "text/plain": [
       "Epoch 7/10 [Val]:   0%|          | 0/104 [00:00<?, ?it/s]"
      ]
     },
     "metadata": {},
     "output_type": "display_data"
    },
    {
     "name": "stdout",
     "output_type": "stream",
     "text": [
      "Epoch 7, Theme Acc: 90.99%, Sentiment Acc: 49.11%\n",
      "Saved epoch model: saved_models/epoch_7_theme_90.99_sentiment_49.11.pth\n",
      "New best sentiment model saved: saved_models/best_sentiment_acc_49.11.pth\n"
     ]
    },
    {
     "data": {
      "application/vnd.jupyter.widget-view+json": {
       "model_id": "8b4c6ae0247345758fff0f31ee633d29",
       "version_major": 2,
       "version_minor": 0
      },
      "text/plain": [
       "Epoch 8/10 [Train]:   0%|          | 0/413 [00:00<?, ?it/s]"
      ]
     },
     "metadata": {},
     "output_type": "display_data"
    },
    {
     "data": {
      "application/vnd.jupyter.widget-view+json": {
       "model_id": "",
       "version_major": 2,
       "version_minor": 0
      },
      "text/plain": [
       "Epoch 8/10 [Val]:   0%|          | 0/104 [00:00<?, ?it/s]"
      ]
     },
     "metadata": {},
     "output_type": "display_data"
    },
    {
     "name": "stdout",
     "output_type": "stream",
     "text": [
      "Epoch 8, Theme Acc: 90.99%, Sentiment Acc: 50.41%\n",
      "Saved epoch model: saved_models/epoch_8_theme_90.99_sentiment_50.41.pth\n",
      "New best sentiment model saved: saved_models/best_sentiment_acc_50.41.pth\n"
     ]
    },
    {
     "data": {
      "application/vnd.jupyter.widget-view+json": {
       "model_id": "7846820cda7946ec812ea193caad2b99",
       "version_major": 2,
       "version_minor": 0
      },
      "text/plain": [
       "Epoch 9/10 [Train]:   0%|          | 0/413 [00:00<?, ?it/s]"
      ]
     },
     "metadata": {},
     "output_type": "display_data"
    },
    {
     "data": {
      "application/vnd.jupyter.widget-view+json": {
       "model_id": "",
       "version_major": 2,
       "version_minor": 0
      },
      "text/plain": [
       "Epoch 9/10 [Val]:   0%|          | 0/104 [00:00<?, ?it/s]"
      ]
     },
     "metadata": {},
     "output_type": "display_data"
    },
    {
     "name": "stdout",
     "output_type": "stream",
     "text": [
      "Epoch 9, Theme Acc: 90.99%, Sentiment Acc: 50.35%\n",
      "Saved epoch model: saved_models/epoch_9_theme_90.99_sentiment_50.35.pth\n"
     ]
    },
    {
     "data": {
      "application/vnd.jupyter.widget-view+json": {
       "model_id": "fb22e2ca90fb48c180df0a38212eaf88",
       "version_major": 2,
       "version_minor": 0
      },
      "text/plain": [
       "Epoch 10/10 [Train]:   0%|          | 0/413 [00:00<?, ?it/s]"
      ]
     },
     "metadata": {},
     "output_type": "display_data"
    },
    {
     "data": {
      "application/vnd.jupyter.widget-view+json": {
       "model_id": "",
       "version_major": 2,
       "version_minor": 0
      },
      "text/plain": [
       "Epoch 10/10 [Val]:   0%|          | 0/104 [00:00<?, ?it/s]"
      ]
     },
     "metadata": {},
     "output_type": "display_data"
    },
    {
     "name": "stdout",
     "output_type": "stream",
     "text": [
      "Epoch 10, Theme Acc: 90.99%, Sentiment Acc: 51.26%\n",
      "Saved epoch model: saved_models/epoch_10_theme_90.99_sentiment_51.26.pth\n",
      "New best sentiment model saved: saved_models/best_sentiment_acc_51.26.pth\n"
     ]
    }
   ],
   "source": [
    "from tqdm.auto import tqdm\n",
    "import torch\n",
    "import torch.nn as nn\n",
    "import torch.optim as optim\n",
    "from torch.utils.data import DataLoader\n",
    "import os\n",
    "\n",
    "# 训练配置\n",
    "device = torch.device(\"cuda\" if torch.cuda.is_available() else \"cpu\")\n",
    "model = ResNet101Att().to(device)\n",
    "criterion = {\n",
    "    'themes': nn.BCELoss(),          # 二分类用BCE\n",
    "    'sentiment': nn.CrossEntropyLoss() # 三分类用交叉熵\n",
    "}\n",
    "optimizer = optim.Adam(model.parameters(), lr=1e-4)\n",
    "\n",
    "# 创建保存目录\n",
    "save_dir = \"saved_models\"\n",
    "os.makedirs(save_dir, exist_ok=True)\n",
    "\n",
    "# 初始化最佳准确率记录\n",
    "best_val_acc = 0.0\n",
    "\n",
    "# 数据加载\n",
    "train_loader = DataLoader(train_dataset, batch_size=32, shuffle=True)\n",
    "val_loader = DataLoader(val_dataset, batch_size=32)\n",
    "\n",
    "# 训练循环\n",
    "for epoch in range(10):\n",
    "    model.train()\n",
    "    \n",
    "    # 训练进度条\n",
    "    train_loop = tqdm(\n",
    "        iterable=train_loader,\n",
    "        desc=f\"Epoch {epoch+1}/10 [Train]\",\n",
    "        total=len(train_loader),\n",
    "        leave=True,\n",
    "        dynamic_ncols=True\n",
    "    )\n",
    "    \n",
    "    # 修改训练循环中的损失计算部分\n",
    "    for inputs, labels in train_loop:\n",
    "        inputs = inputs.to(device)\n",
    "        theme_labels = labels['themes'].to(device)      # 转移到GPU\n",
    "        sentiment_labels = labels['sentiment'].to(device)  # 转移到GPU\n",
    "\n",
    "        optimizer.zero_grad()\n",
    "        outputs = model(inputs)\n",
    "\n",
    "        # 修正后的损失计算（使用已转移到GPU的labels）\n",
    "        loss = 0.7 * criterion['themes'](outputs['themes'], theme_labels) \\\n",
    "               + 0.3 * criterion['sentiment'](outputs['sentiment'], sentiment_labels) \n",
    "    \n",
    "    loss.backward()\n",
    "    optimizer.step()\n",
    "    train_loop.set_postfix(loss=f\"{loss.item():.4f}\")\n",
    "\n",
    "    # 验证\n",
    "    model.eval()\n",
    "    total_theme_acc = 0.0\n",
    "    total_sentiment_acc = 0.0\n",
    "    total_samples = 0\n",
    "    \n",
    "    val_loop = tqdm(\n",
    "        val_loader,\n",
    "        desc=f\"Epoch {epoch+1}/10 [Val]\",\n",
    "        total=len(val_loader),\n",
    "        leave=False\n",
    "    )\n",
    "    \n",
    "    with torch.no_grad():\n",
    "        for inputs, labels in val_loop:\n",
    "            inputs = inputs.to(device)\n",
    "            true_themes = labels['themes'].to(device)\n",
    "            true_sentiment = labels['sentiment'].to(device)\n",
    "            \n",
    "            outputs = model(inputs)\n",
    "            \n",
    "            # 主题准确率\n",
    "            pred_themes = (outputs['themes'] > 0.5).float()\n",
    "            theme_acc = (pred_themes == true_themes).float().mean()\n",
    "            \n",
    "            # 情感准确率\n",
    "            pred_sentiment = torch.argmax(outputs['sentiment'], dim=1)\n",
    "            sentiment_acc = (pred_sentiment == true_sentiment).float().mean()\n",
    "            \n",
    "            total_theme_acc += theme_acc.item() * inputs.size(0)\n",
    "            total_sentiment_acc += sentiment_acc.item() * inputs.size(0)\n",
    "            total_samples += inputs.size(0)\n",
    "    \n",
    "    avg_theme_acc = 100 * total_theme_acc / total_samples\n",
    "    avg_sentiment_acc = 100 * total_sentiment_acc / total_samples\n",
    "    print(f\"Epoch {epoch+1}, Theme Acc: {avg_theme_acc:.2f}%, Sentiment Acc: {avg_sentiment_acc:.2f}%\")\n",
    "\n",
    "    # ======== 修正模型保存逻辑 ========\n",
    "    # 策略1：保存完整epoch模型\n",
    "    epoch_filename = f\"{save_dir}/epoch_{epoch+1}_theme_{avg_theme_acc:.2f}_sentiment_{avg_sentiment_acc:.2f}.pth\"\n",
    "    torch.save({\n",
    "        'epoch': epoch+1,\n",
    "        'model_state_dict': model.state_dict(),\n",
    "        'optimizer_state_dict': optimizer.state_dict(),\n",
    "        'theme_acc': avg_theme_acc,\n",
    "        'sentiment_acc': avg_sentiment_acc,\n",
    "    }, epoch_filename)\n",
    "    print(f\"Saved epoch model: {epoch_filename}\")\n",
    "\n",
    "    # 策略2：保存最佳情感模型\n",
    "    if avg_sentiment_acc > best_val_acc:\n",
    "        best_val_acc = avg_sentiment_acc\n",
    "        best_filename = f\"{save_dir}/best_sentiment_acc_{best_val_acc:.2f}.pth\"\n",
    "        torch.save({\n",
    "            'epoch': epoch+1,\n",
    "            'model_state_dict': model.state_dict(),\n",
    "            'optimizer_state_dict': optimizer.state_dict(),\n",
    "            'sentiment_acc': best_val_acc,\n",
    "        }, best_filename)\n",
    "        print(f\"New best sentiment model saved: {best_filename}\")"
   ]
  },
  {
   "cell_type": "markdown",
   "metadata": {},
   "source": [
    "**实例使用**"
   ]
  },
  {
   "cell_type": "code",
   "execution_count": 6,
   "metadata": {
    "ExecutionIndicator": {
     "show": true
    },
    "execution": {
     "iopub.execute_input": "2025-04-05T14:00:54.760136Z",
     "iopub.status.busy": "2025-04-05T14:00:54.759792Z",
     "iopub.status.idle": "2025-04-05T14:00:56.250364Z",
     "shell.execute_reply": "2025-04-05T14:00:56.249562Z",
     "shell.execute_reply.started": "2025-04-05T14:00:54.760117Z"
    },
    "tags": []
   },
   "outputs": [
    {
     "data": {
      "image/png": "[encoded data removed]",
      "text/plain": [
       "<Figure size 720x432 with 1 Axes>"
      ]
     },
     "metadata": {
      "needs_background": "light"
     },
     "output_type": "display_data"
    },
    {
     "name": "stdout",
     "output_type": "stream",
     "text": [
      "\n",
      "预测结果:\n",
      "========================================\n",
      "主题概率分布:\n",
      "区位      : 11.7%\n",
      "餐饮      : 11.2%\n",
      "房间设施    : 19.3%\n",
      "娱乐设施    : 11.3%\n",
      "店内设施    : 12.6%\n",
      "服务      : 11.2%\n",
      "风格化     : 11.5%\n",
      "其他      : 11.1%\n",
      "\n",
      "主要相关主题: 房间设施\n",
      "\n",
      "情感倾向:\n",
      "预测类别: 中性 (0)\n",
      "概率分布:\n",
      "消极    : 15.0%\n",
      "中性    : 49.7%\n",
      "积极    : 35.4%\n"
     ]
    }
   ],
   "source": [
    "import matplotlib.pyplot as plt  \n",
    "\n",
    "def load_model(checkpoint_path, device='cuda'):\n",
    "    \"\"\"加载训练好的模型\"\"\"\n",
    "    # 创建模型实例\n",
    "    model = ResNet101Att()\n",
    "    \n",
    "    # 加载权重\n",
    "    if os.path.exists(checkpoint_path):\n",
    "        checkpoint = torch.load(checkpoint_path, map_location=device)\n",
    "        if 'model_state_dict' in checkpoint:\n",
    "            model.load_state_dict(checkpoint['model_state_dict'])\n",
    "        else:  # 直接加载state_dict\n",
    "            model.load_state_dict(checkpoint)\n",
    "    else:\n",
    "        raise FileNotFoundError(f\"模型文件 {checkpoint_path} 不存在\")\n",
    "    \n",
    "    model = model.to(device)\n",
    "    model.eval()\n",
    "    return model\n",
    "\n",
    "def preprocess_image(image_path):\n",
    "    \"\"\"图像预处理\"\"\"\n",
    "    transform = transforms.Compose([\n",
    "        transforms.Resize((224, 224)),\n",
    "        transforms.ToTensor(),\n",
    "        transforms.Normalize([0.485, 0.456, 0.406], [0.229, 0.224, 0.225])\n",
    "    ])\n",
    "    image = Image.open(image_path).convert('RGB')\n",
    "    return transform(image).unsqueeze(0)\n",
    "\n",
    "# 4. 预测函数\n",
    "def predict(image_path, model, device='cuda'):\n",
    "    # 预处理\n",
    "    input_tensor = preprocess_image(image_path).to(device)\n",
    "    \n",
    "    # 推理\n",
    "    with torch.no_grad():\n",
    "        outputs = model(input_tensor)\n",
    "    \n",
    "    # 后处理\n",
    "    theme_probs = torch.softmax(outputs['themes'], dim=1).cpu().numpy()[0]\n",
    "    theme_names = ['区位','餐饮','房间设施','娱乐设施','店内设施','服务','风格化','其他']\n",
    "    main_theme = theme_names[np.argmax(theme_probs)]\n",
    "    \n",
    "    sentiment_probs = outputs['sentiment'].softmax(dim=1).cpu().numpy()[0]\n",
    "    sentiment_labels = {\n",
    "        0: '消极 (-1)',\n",
    "        1: '中性 (0)',\n",
    "        2: '积极 (1)'\n",
    "    }\n",
    "    sentiment_id = np.argmax(sentiment_probs)\n",
    "    \n",
    "    return {\n",
    "        'theme_probs': dict(zip(theme_names, theme_probs.tolist())),\n",
    "        'main_theme': main_theme,\n",
    "        'sentiment': sentiment_labels[sentiment_id],\n",
    "        'sentiment_probs': {\n",
    "            '消极': sentiment_probs[0],\n",
    "            '中性': sentiment_probs[1],\n",
    "            '积极': sentiment_probs[2]\n",
    "        }\n",
    "    }\n",
    "\n",
    "# 5. 使用示例\n",
    "if __name__ == \"__main__\":\n",
    "    # 配置参数\n",
    "    device = 'cuda' if torch.cuda.is_available() else 'cpu'\n",
    "    model_path = \"saved_models/best_sentiment_acc_51.26.pth\"\n",
    "    test_image = \"../pic/1016906_4.jpg\"\n",
    "    try:\n",
    "        # 加载并显示原始图像\n",
    "        img = Image.open(test_image)\n",
    "        \n",
    "        plt.figure(figsize=(10, 6))  # 创建画布\n",
    "        plt.imshow(img)\n",
    "        plt.title(\"酒店场景分析 - 输入图像\", \n",
    "                 fontsize=14, \n",
    "                 fontproperties='SimHei',  # 中文字体\n",
    "                 color='darkred')         # 标题颜色\n",
    "        plt.axis('off')  # 隐藏坐标轴\n",
    "        plt.show()       # 显示图像\n",
    "        \n",
    "    except Exception as e:\n",
    "        print(f\"\\n⚠️ 图片加载失败: {str(e)}\")\n",
    "        print(f\"请检查图片路径: {os.path.abspath(test_image)}\")\n",
    "    \n",
    "    # 加载模型\n",
    "    model = load_model(model_path, device)\n",
    "    \n",
    "    # 执行预测\n",
    "    results = predict(test_image, model, device)\n",
    "    \n",
    "    # 打印结果\n",
    "    print(\"\\n预测结果:\")\n",
    "    print(\"=\"*40)\n",
    "    print(\"主题概率分布:\")\n",
    "    for name, prob in results['theme_probs'].items():\n",
    "        print(f\"{name.ljust(8)}: {prob*100:.1f}%\")\n",
    "    \n",
    "    print(f\"\\n主要相关主题: {results['main_theme']}\")\n",
    "    \n",
    "    print(\"\\n情感倾向:\")\n",
    "    print(f\"预测类别: {results['sentiment']}\")\n",
    "    print(\"概率分布:\")\n",
    "    for k, v in results['sentiment_probs'].items():\n",
    "        print(f\"{k.ljust(6)}: {v*100:.1f}%\")"
   ]
  }
 ],
 "metadata": {
  "kernelspec": {
   "display_name": "Python 3 (ipykernel)",
   "language": "python",
   "name": "python3"
  },
  "language_info": {
   "codemirror_mode": {
    "name": "ipython",
    "version": 3
   },
   "file_extension": ".py",
   "mimetype": "text/x-python",
   "name": "python",
   "nbconvert_exporter": "python",
   "pygments_lexer": "ipython3",
   "version": "3.7.0"
  }
 },
 "nbformat": 4,
 "nbformat_minor": 4
}
